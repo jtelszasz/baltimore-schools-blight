{
 "metadata": {
  "name": "",
  "signature": "sha256:fcabafa1c5259dcb277ca5f22dbaf02704c08374ba6150a0ef1f5fc26f2477d1"
 },
 "nbformat": 3,
 "nbformat_minor": 0,
 "worksheets": [
  {
   "cells": [
    {
     "cell_type": "heading",
     "level": 1,
     "metadata": {},
     "source": [
      "Vacant Lots and Buildings Surrounding B'more City Schools"
     ]
    },
    {
     "cell_type": "markdown",
     "metadata": {},
     "source": [
      "This iPython notebook is used in conjunction with QGIS to determine the number of vacant buildings and parcels within a certain distance of Baltimore City Schools.<br>\n",
      "\n",
      "Data are obtained from <a href='http://data.baltimorecity.gov'>Open Baltimore</a>."
     ]
    },
    {
     "cell_type": "code",
     "collapsed": false,
     "input": [
      "import pandas as pd\n",
      "from plotly.graph_objs import *"
     ],
     "language": "python",
     "metadata": {},
     "outputs": [],
     "prompt_number": 1
    },
    {
     "cell_type": "code",
     "collapsed": false,
     "input": [
      "# Vacant building counts within 1/4 mile buffer of each school output from QGIS.\n",
      "quartermile_vacant_bldg_counts = pd.read_csv('quartermile_vacant_bldg_counts.csv', index_col=0)\n",
      "quartermile_vacant_bldg_counts.head()"
     ],
     "language": "python",
     "metadata": {},
     "outputs": [
      {
       "html": [
        "<div style=\"max-height:1000px;max-width:1500px;overflow:auto;\">\n",
        "<table border=\"1\" class=\"dataframe\">\n",
        "  <thead>\n",
        "    <tr style=\"text-align: right;\">\n",
        "      <th></th>\n",
        "      <th>PNTCNT</th>\n",
        "    </tr>\n",
        "    <tr>\n",
        "      <th>School</th>\n",
        "      <th></th>\n",
        "    </tr>\n",
        "  </thead>\n",
        "  <tbody>\n",
        "    <tr>\n",
        "      <th>Steuart Hill Academic Academy</th>\n",
        "      <td> 499</td>\n",
        "    </tr>\n",
        "    <tr>\n",
        "      <th>Langston Hughes Elementary</th>\n",
        "      <td> 133</td>\n",
        "    </tr>\n",
        "    <tr>\n",
        "      <th>Cecil Elementary</th>\n",
        "      <td> 290</td>\n",
        "    </tr>\n",
        "    <tr>\n",
        "      <th>City Springs Elementary/Middle</th>\n",
        "      <td>  24</td>\n",
        "    </tr>\n",
        "    <tr>\n",
        "      <th>James McHenry Elementary/Middle</th>\n",
        "      <td> 111</td>\n",
        "    </tr>\n",
        "  </tbody>\n",
        "</table>\n",
        "</div>"
       ],
       "metadata": {},
       "output_type": "pyout",
       "prompt_number": 2,
       "text": [
        "                                 PNTCNT\n",
        "School                                 \n",
        "Steuart Hill Academic Academy       499\n",
        "Langston Hughes Elementary          133\n",
        "Cecil Elementary                    290\n",
        "City Springs Elementary/Middle       24\n",
        "James McHenry Elementary/Middle     111"
       ]
      }
     ],
     "prompt_number": 2
    },
    {
     "cell_type": "code",
     "collapsed": false,
     "input": [
      "# All vacant parcels within 1/4 mile buffer output from QGIS with school name.\n",
      "# File is output from QGIS.\n",
      "# Areas in square meters.\n",
      "quartermile_vacant_parcels = pd.read_csv('quartermile_intersect_UTM40_attributes.csv')\n",
      "\n",
      "# Group all parcels by school and append vacant building counts field\n",
      "quartermile_vacant_sums = quartermile_vacant_parcels.groupby('School').sum()\n",
      "quartermile_vacant_sums['bldg_counts'] = quartermile_vacant_bldg_counts['PNTCNT']\n",
      "quartermile_vacant_sums.head()"
     ],
     "language": "python",
     "metadata": {},
     "outputs": [
      {
       "html": [
        "<div style=\"max-height:1000px;max-width:1500px;overflow:auto;\">\n",
        "<table border=\"1\" class=\"dataframe\">\n",
        "  <thead>\n",
        "    <tr style=\"text-align: right;\">\n",
        "      <th></th>\n",
        "      <th>Zip</th>\n",
        "      <th>Unnamed: 11</th>\n",
        "      <th>PNTCNT</th>\n",
        "      <th>TAG</th>\n",
        "      <th>LAST_ORG</th>\n",
        "      <th>SUBTYPE_GE</th>\n",
        "      <th>SHAPE_Leng</th>\n",
        "      <th>SHAPE_Area</th>\n",
        "      <th>BLDG_NO</th>\n",
        "      <th>UNIT_NUM</th>\n",
        "      <th>area</th>\n",
        "      <th>bldg_counts</th>\n",
        "    </tr>\n",
        "    <tr>\n",
        "      <th>School</th>\n",
        "      <th></th>\n",
        "      <th></th>\n",
        "      <th></th>\n",
        "      <th></th>\n",
        "      <th></th>\n",
        "      <th></th>\n",
        "      <th></th>\n",
        "      <th></th>\n",
        "      <th></th>\n",
        "      <th></th>\n",
        "      <th></th>\n",
        "      <th></th>\n",
        "    </tr>\n",
        "  </thead>\n",
        "  <tbody>\n",
        "    <tr>\n",
        "      <th>2</th>\n",
        "      <td>     NaN</td>\n",
        "      <td>NaN</td>\n",
        "      <td> 52182</td>\n",
        "      <td> 1.404000e+17</td>\n",
        "      <td> 23680</td>\n",
        "      <td> 234</td>\n",
        "      <td> 46840.967231</td>\n",
        "      <td> 552666.528611</td>\n",
        "      <td> 302119</td>\n",
        "      <td>NaN</td>\n",
        "      <td> 49015.796150</td>\n",
        "      <td> 187</td>\n",
        "    </tr>\n",
        "    <tr>\n",
        "      <th>Abbottston Elementary</th>\n",
        "      <td> 1421606</td>\n",
        "      <td>NaN</td>\n",
        "      <td>  4288</td>\n",
        "      <td> 4.020000e+16</td>\n",
        "      <td>  7020</td>\n",
        "      <td>  67</td>\n",
        "      <td> 17253.185300</td>\n",
        "      <td> 390758.429139</td>\n",
        "      <td>  87488</td>\n",
        "      <td>NaN</td>\n",
        "      <td> 18326.371405</td>\n",
        "      <td>  44</td>\n",
        "    </tr>\n",
        "    <tr>\n",
        "      <th>Academy for College and Career Exploration</th>\n",
        "      <td> 1505981</td>\n",
        "      <td>NaN</td>\n",
        "      <td>  4757</td>\n",
        "      <td> 4.260000e+16</td>\n",
        "      <td>  7300</td>\n",
        "      <td>  71</td>\n",
        "      <td> 17647.923375</td>\n",
        "      <td> 214316.373163</td>\n",
        "      <td> 109255</td>\n",
        "      <td>NaN</td>\n",
        "      <td> 17558.054240</td>\n",
        "      <td>  10</td>\n",
        "    </tr>\n",
        "    <tr>\n",
        "      <th>Achievement Academy at Harbor City High</th>\n",
        "      <td>  954810</td>\n",
        "      <td>NaN</td>\n",
        "      <td>  1980</td>\n",
        "      <td> 2.700000e+16</td>\n",
        "      <td>  4700</td>\n",
        "      <td>  47</td>\n",
        "      <td> 19023.960832</td>\n",
        "      <td> 614797.269039</td>\n",
        "      <td>  70803</td>\n",
        "      <td>NaN</td>\n",
        "      <td> 31447.330883</td>\n",
        "      <td> 154</td>\n",
        "    </tr>\n",
        "    <tr>\n",
        "      <th>Afya Public Charter</th>\n",
        "      <td>  869733</td>\n",
        "      <td>NaN</td>\n",
        "      <td>  1681</td>\n",
        "      <td> 2.460000e+16</td>\n",
        "      <td>  4100</td>\n",
        "      <td>  41</td>\n",
        "      <td>  8006.317411</td>\n",
        "      <td>  77460.146894</td>\n",
        "      <td>  16514</td>\n",
        "      <td>NaN</td>\n",
        "      <td>  7059.804419</td>\n",
        "      <td>  55</td>\n",
        "    </tr>\n",
        "  </tbody>\n",
        "</table>\n",
        "</div>"
       ],
       "metadata": {},
       "output_type": "pyout",
       "prompt_number": 10,
       "text": [
        "                                                Zip  Unnamed: 11  PNTCNT  \\\n",
        "School                                                                     \n",
        "2                                               NaN          NaN   52182   \n",
        "Abbottston Elementary                       1421606          NaN    4288   \n",
        "Academy for College and Career Exploration  1505981          NaN    4757   \n",
        "Achievement Academy at Harbor City High      954810          NaN    1980   \n",
        "Afya Public Charter                          869733          NaN    1681   \n",
        "\n",
        "                                                     TAG  LAST_ORG  \\\n",
        "School                                                               \n",
        "2                                           1.404000e+17     23680   \n",
        "Abbottston Elementary                       4.020000e+16      7020   \n",
        "Academy for College and Career Exploration  4.260000e+16      7300   \n",
        "Achievement Academy at Harbor City High     2.700000e+16      4700   \n",
        "Afya Public Charter                         2.460000e+16      4100   \n",
        "\n",
        "                                            SUBTYPE_GE    SHAPE_Leng  \\\n",
        "School                                                                 \n",
        "2                                                  234  46840.967231   \n",
        "Abbottston Elementary                               67  17253.185300   \n",
        "Academy for College and Career Exploration          71  17647.923375   \n",
        "Achievement Academy at Harbor City High             47  19023.960832   \n",
        "Afya Public Charter                                 41   8006.317411   \n",
        "\n",
        "                                               SHAPE_Area  BLDG_NO  UNIT_NUM  \\\n",
        "School                                                                         \n",
        "2                                           552666.528611   302119       NaN   \n",
        "Abbottston Elementary                       390758.429139    87488       NaN   \n",
        "Academy for College and Career Exploration  214316.373163   109255       NaN   \n",
        "Achievement Academy at Harbor City High     614797.269039    70803       NaN   \n",
        "Afya Public Charter                          77460.146894    16514       NaN   \n",
        "\n",
        "                                                    area  bldg_counts  \n",
        "School                                                                 \n",
        "2                                           49015.796150          187  \n",
        "Abbottston Elementary                       18326.371405           44  \n",
        "Academy for College and Career Exploration  17558.054240           10  \n",
        "Achievement Academy at Harbor City High     31447.330883          154  \n",
        "Afya Public Charter                          7059.804419           55  "
       ]
      }
     ],
     "prompt_number": 10
    },
    {
     "cell_type": "heading",
     "level": 1,
     "metadata": {},
     "source": [
      "Marginal Distributions for Area and Building Counts within 1/4 Mile by School\n"
     ]
    },
    {
     "cell_type": "heading",
     "level": 3,
     "metadata": {},
     "source": [
      "Vacant Parcel Area"
     ]
    },
    {
     "cell_type": "code",
     "collapsed": false,
     "input": [
      "quartermile_vacant_sums['area'].hist(bins=20, grid='off')\n",
      "xlabel('Vacant Parcel Area (m^2) within 1/4 Mile')\n",
      "ylabel('Number of Schools')\n",
      "plt.show()"
     ],
     "language": "python",
     "metadata": {},
     "outputs": [
      {
       "metadata": {},
       "output_type": "display_data",
       "png": "[encoded data removed]",
       "text": [
        "<matplotlib.figure.Figure at 0x10a365890>"
       ]
      }
     ],
     "prompt_number": 23
    },
    {
     "cell_type": "heading",
     "level": 3,
     "metadata": {},
     "source": [
      "Vacant Building Count"
     ]
    },
    {
     "cell_type": "code",
     "collapsed": false,
     "input": [
      "quartermile_vacant_sums['bldg_counts'].hist(bins=20, grid='off')\n",
      "xlabel('Number of Vacant Buildings within 1/4 Mile')\n",
      "ylabel('Number of Schools')\n",
      "plt.show()"
     ],
     "language": "python",
     "metadata": {},
     "outputs": [
      {
       "metadata": {},
       "output_type": "display_data",
       "png": "[encoded data removed]",
       "text": [
        "<matplotlib.figure.Figure at 0x10b8138d0>"
       ]
      }
     ],
     "prompt_number": 24
    },
    {
     "cell_type": "heading",
     "level": 3,
     "metadata": {},
     "source": [
      "School with Largest Number of Vacant Buildings within 1/4 Mile"
     ]
    },
    {
     "cell_type": "code",
     "collapsed": false,
     "input": [
      "quartermile_vacant_sums.ix[quartermile_vacant_sums['bldg_counts'].idxmax()]"
     ],
     "language": "python",
     "metadata": {},
     "outputs": [
      {
       "metadata": {},
       "output_type": "pyout",
       "prompt_number": 19,
       "text": [
        "Zip            6.068062e+06\n",
        "Unnamed: 11             NaN\n",
        "PNTCNT         7.836400e+04\n",
        "TAG            1.716000e+17\n",
        "LAST_ORG       2.864000e+04\n",
        "SUBTYPE_GE     2.860000e+02\n",
        "SHAPE_Leng     7.346204e+04\n",
        "SHAPE_Area     7.668311e+05\n",
        "BLDG_NO        3.465530e+05\n",
        "UNIT_NUM                NaN\n",
        "area           6.267684e+04\n",
        "bldg_counts    7.220000e+02\n",
        "Name: Roots and Branches School, dtype: float64"
       ]
      }
     ],
     "prompt_number": 19
    },
    {
     "cell_type": "heading",
     "level": 3,
     "metadata": {},
     "source": [
      "School with Largest Vacant Area within 1/4 Mile"
     ]
    },
    {
     "cell_type": "code",
     "collapsed": false,
     "input": [
      "quartermile_vacant_sums.ix[quartermile_vacant_sums['area'].idxmax()]"
     ],
     "language": "python",
     "metadata": {},
     "outputs": [
      {
       "metadata": {},
       "output_type": "pyout",
       "prompt_number": 20,
       "text": [
        "Zip            6.581300e+05\n",
        "Unnamed: 11             NaN\n",
        "PNTCNT         9.610000e+02\n",
        "TAG            1.860000e+16\n",
        "LAST_ORG       3.200000e+03\n",
        "SUBTYPE_GE     3.100000e+01\n",
        "SHAPE_Leng     2.742405e+04\n",
        "SHAPE_Area     1.419097e+06\n",
        "BLDG_NO        2.558600e+04\n",
        "UNIT_NUM                NaN\n",
        "area           1.148990e+05\n",
        "bldg_counts    1.000000e+01\n",
        "Name: Morrell Park Elementary/Middle, dtype: float64"
       ]
      }
     ],
     "prompt_number": 20
    },
    {
     "cell_type": "heading",
     "level": 1,
     "metadata": {},
     "source": [
      "Plot vacant buildings vs. vacant parcel area within 1/4 mile buffer of city schools."
     ]
    },
    {
     "cell_type": "code",
     "collapsed": false,
     "input": [
      "import plotly.plotly as py\n",
      "\n",
      "title = 'Baltimore City Schools Surrounded by Blight'\n",
      "\n",
      "trace1 = Scatter(x=quartermile_vacant_sums['bldg_counts'],\n",
      "                 y=quartermile_vacant_sums['area'],\n",
      "                 text = quartermile_vacant_sums.index,\n",
      "                 mode = 'markers',\n",
      "                 marker = Marker(size = 15,\n",
      "                                 sizemode = 'diameter',\n",
      "                                 #sizeref = schoolage_pop.max()/1000,\n",
      "                                 opacity = 0.4,\n",
      "                                 color = 'red')\n",
      "                 )\n",
      "\n",
      "layout = Layout(\n",
      "    title = title,\n",
      "    xaxis = XAxis(range = [-25,800],\n",
      "                  title = 'Number of Vacant Buildings in 1/4 Mile Radius',\n",
      "                  showgrid = False,\n",
      "                  showline = False,\n",
      "                  zeroline = False,\n",
      "                  autotick = True,\n",
      "                  showticklabels = True),\n",
      "    yaxis = YAxis(range = [-2000,125000],\n",
      "                  title = 'Area (square meters) of Vacant Parcels in 1/4 Mile Radius',\n",
      "                  showgrid = False,\n",
      "                  showline = False,\n",
      "                  zeroline = False,\n",
      "                  autotick = True,\n",
      "                  showticklabels = True),\n",
      "    autosize = False,\n",
      "    width=600,\n",
      "    height=400,\n",
      "    font = Font(size=12),\n",
      "    hovermode = 'closest',\n",
      "    showlegend=False,\n",
      "    margin=Margin(\n",
      "        l=75,\n",
      "        r=75,\n",
      "        b=50,\n",
      "        t=50,\n",
      "        pad=0)\n",
      ")\n",
      "\n",
      "data = Data([trace1])\n",
      "fig = Figure(data=data, layout=layout)\n",
      "py.iplot(fig, filename=title)\n",
      "\n"
     ],
     "language": "python",
     "metadata": {},
     "outputs": [
      {
       "html": [
        "<iframe id=\"igraph\" scrolling=\"no\" style=\"border:none;\"seamless=\"seamless\" src=\"https://plot.ly/~jtelszasz/261.embed\" height=\"525\" width=\"100%\"></iframe>"
       ],
       "metadata": {},
       "output_type": "pyout",
       "prompt_number": 40,
       "text": [
        "<plotly.tools.PlotlyDisplay at 0x10a069310>"
       ]
      }
     ],
     "prompt_number": 40
    },
    {
     "cell_type": "heading",
     "level": 1,
     "metadata": {},
     "source": [
      "Fraction of All Baltimore Vacant Buildings within 1/4 Mile of School"
     ]
    },
    {
     "cell_type": "code",
     "collapsed": false,
     "input": [
      "# 11416 from \"quartermile_vacant_bldg_points.shp\" in QGIS. Can't use \"bldg_counts\" field \n",
      "# in quartermile_vacant_sums because some buildings get counted in those totals.\n",
      "# 16744 total number of vacant buildings in vacant_bldgs shapefile (from Open Baltimore)\n",
      "11416.0 / 16744.0"
     ],
     "language": "python",
     "metadata": {},
     "outputs": [
      {
       "metadata": {},
       "output_type": "pyout",
       "prompt_number": 34,
       "text": [
        "0.6817964644051601"
       ]
      }
     ],
     "prompt_number": 34
    },
    {
     "cell_type": "heading",
     "level": 1,
     "metadata": {},
     "source": [
      "Fraction of All Baltimore Parcel Area within 1/4 Mile of School"
     ]
    },
    {
     "cell_type": "code",
     "collapsed": false,
     "input": [
      "\n",
      "vacant_parcels = pd.read_csv('vacant_parcels_attributes.csv')\n",
      "quartermile_vacant_sums['area'].sum() / vacant_parcels['area'].sum()"
     ],
     "language": "python",
     "metadata": {},
     "outputs": [
      {
       "metadata": {},
       "output_type": "pyout",
       "prompt_number": 37,
       "text": [
        "0.26644700861486659"
       ]
      }
     ],
     "prompt_number": 37
    },
    {
     "cell_type": "heading",
     "level": 1,
     "metadata": {},
     "source": [
      "Output short summary table"
     ]
    },
    {
     "cell_type": "code",
     "collapsed": false,
     "input": [
      "# Output short summary file\n",
      "quartermile_vacant_bldg_counts['area'] = quartermile_vacant_sums['area']\n",
      "quartermile_vacant_bldg_counts.to_csv('quartermile_summary_by_school.csv')"
     ],
     "language": "python",
     "metadata": {},
     "outputs": [],
     "prompt_number": 36
    }
   ],
   "metadata": {}
  }
 ]
}